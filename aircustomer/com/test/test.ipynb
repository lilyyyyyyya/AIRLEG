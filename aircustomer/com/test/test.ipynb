{
 "cells": [
  {
   "cell_type": "code",
   "execution_count": 2,
   "metadata": {
    "collapsed": true
   },
   "outputs": [
    {
     "name": "stdout",
     "output_type": "stream",
     "text": [
      " 创建的数组为：  [1 2 3 4]\n",
      "创建的数组为：\n",
      " [[ 1  2  3  4]\n",
      " [ 4  5  6  7]\n",
      " [ 7  8  9 10]]\n",
      "数组类型为： int32\n",
      "数组元素个数为： 12\n",
      "数组每个元素大小为： 4\n"
     ]
    }
   ],
   "source": [
    "# 代码 1\n",
    "import numpy as np #导入 NumPy 库\n",
    "arr1 = np.array([1, 2, 3, 4]) #创建一维数组\n",
    "print(' 创建的数组为： ',arr1)\n",
    "\n",
    "# 创建二维数组\n",
    "arr2 = np.array([[1, 2, 3, 4],[4, 5, 6, 7], [7, 8, 9, 10]])\n",
    "print('创建的数组为：\\n',arr2)\n",
    "\n",
    "print('数组类型为：',arr2.dtype)  #查看数组类型\n",
    "print('数组元素个数为：',arr2.size)  #查看数组元素个数\n",
    "print('数组每个元素大小为：',arr2.itemsize)  #查看数组每个元素大小"
   ]
  }
 ],
 "metadata": {
  "kernelspec": {
   "display_name": "Python 3",
   "language": "python",
   "name": "python3"
  },
  "language_info": {
   "codemirror_mode": {
    "name": "ipython",
    "version": 2
   },
   "file_extension": ".py",
   "mimetype": "text/x-python",
   "name": "python",
   "nbconvert_exporter": "python",
   "pygments_lexer": "ipython2",
   "version": "2.7.6"
  }
 },
 "nbformat": 4,
 "nbformat_minor": 0
}